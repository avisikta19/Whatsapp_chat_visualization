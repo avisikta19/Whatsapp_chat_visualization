{
  "nbformat": 4,
  "nbformat_minor": 0,
  "metadata": {
    "colab": {
      "name": "Chat Analysis.ipynb",
      "provenance": []
    },
    "kernelspec": {
      "name": "python3",
      "display_name": "Python 3"
    }
  },
  "cells": [
    {
      "cell_type": "code",
      "metadata": {
        "id": "Df0Ray0aBcus",
        "colab_type": "code",
        "colab": {
          "base_uri": "https://localhost:8080/",
          "height": 33
        },
        "outputId": "602f52bc-4d85-4c56-ed8b-85005531258f"
      },
      "source": [
        "cd /content/drive/My\\ Drive/Whatsapp\\ Chat\\ Analysis/"
      ],
      "execution_count": 3,
      "outputs": [
        {
          "output_type": "stream",
          "text": [
            "/content/drive/.shortcut-targets-by-id/1ymUvpbcyy9XxHjLxlR6sWaTwc-lXXR-I/Whatsapp Chat Analysis\n"
          ],
          "name": "stdout"
        }
      ]
    },
    {
      "cell_type": "code",
      "metadata": {
        "id": "pTVvf2xgjLx3",
        "colab_type": "code",
        "colab": {}
      },
      "source": [
        " pip install emoji --upgrade"
      ],
      "execution_count": 40,
      "outputs": []
    },
    {
      "cell_type": "code",
      "metadata": {
        "id": "Tvo3eeOKSAmA",
        "colab_type": "code",
        "colab": {}
      },
      "source": [
        "import re\n",
        "import pandas as pd\n",
        "import numpy as np\n",
        "import os\n",
        "pd.set_option('display.max_rows', 500)\n",
        "import datetime as dt\n",
        "from matplotlib import pyplot as plt\n",
        "%matplotlib inline\n",
        "import seaborn as sns\n",
        "from collections import Counter\n",
        "import string\n",
        "#import emoji\n",
        "\n",
        "import unicodedata\n",
        "import nltk\n",
        "#nltk.download()\n",
        "#nltk.download('punkt')\n",
        "#nltk.download('stopwords')\n",
        "from nltk.tokenize import word_tokenize\n",
        "from nltk.corpus import stopwords\n",
        "\n",
        "from sklearn.feature_extraction.text import  TfidfVectorizer \n",
        "from sklearn.decomposition import NMF\n",
        "\n",
        "from collections import Counter\n",
        "\n",
        "import warnings\n",
        "warnings.filterwarnings(\"ignore\")"
      ],
      "execution_count": 42,
      "outputs": []
    },
    {
      "cell_type": "code",
      "metadata": {
        "id": "ZLsm6-umkb5m",
        "colab_type": "code",
        "colab": {}
      },
      "source": [
        "def read(file):\n",
        "    f = open('/content/drive/My Drive/Whatsapp Chat Analysis/others/{}'.format(file), 'r') \n",
        "    messages = re.findall('(\\d+/\\d+/\\d+, \\d+:\\d+\\d+ ([\\w]+)) - (.*?): (.*)', f.read())\n",
        "    f.close()\n",
        "    hist = pd.DataFrame(messages,columns=['date','am-pm','name','msg'])\n",
        "    hist['date'] = pd.to_datetime(hist['date'],format=\"%d/%m/%y, %I:%M %p\")\n",
        "    hist['msg_len'] = hist['msg'].str.len()\n",
        "    hist['date1'] = hist['date'].apply(lambda x: x.date())\n",
        "    return hist"
      ],
      "execution_count": 5,
      "outputs": []
    },
    {
      "cell_type": "code",
      "metadata": {
        "id": "P_5eOtyJkubF",
        "colab_type": "code",
        "colab": {}
      },
      "source": [
        "files = os.listdir('/content/drive/My Drive/Whatsapp Chat Analysis/others')\n",
        "lst = []\n",
        "for file in files:\n",
        "    history = read(file)\n",
        "    lst.append(history)    \n",
        "history = pd.concat(lst).reset_index()     "
      ],
      "execution_count": 6,
      "outputs": []
    },
    {
      "cell_type": "code",
      "metadata": {
        "id": "F_E4skWcRMGC",
        "colab_type": "code",
        "colab": {}
      },
      "source": [
        "history_clean = history[history['msg']!=' <Media omitted>']"
      ],
      "execution_count": 9,
      "outputs": []
    },
    {
      "cell_type": "code",
      "metadata": {
        "id": "hLyEVCOtnfPC",
        "colab_type": "code",
        "colab": {}
      },
      "source": [
        "history_clean[history_clean['name']=='sachin']['msg'].count()"
      ],
      "execution_count": 43,
      "outputs": []
    },
    {
      "cell_type": "code",
      "metadata": {
        "id": "qgnw6lQkXr-d",
        "colab_type": "code",
        "colab": {}
      },
      "source": [
        "history_clean['name'].nunique() "
      ],
      "execution_count": 44,
      "outputs": []
    },
    {
      "cell_type": "code",
      "metadata": {
        "id": "ciMbyV_YT2Js",
        "colab_type": "code",
        "colab": {}
      },
      "source": [
        "# Create a subset of the dataframe with only messages i've sent\n",
        "msg_sachin = (history_clean[history_clean['name']=='sachin'])"
      ],
      "execution_count": 12,
      "outputs": []
    },
    {
      "cell_type": "code",
      "metadata": {
        "id": "OeIdzNkeT3b6",
        "colab_type": "code",
        "colab": {}
      },
      "source": [
        "msg_sachin.shape"
      ],
      "execution_count": 45,
      "outputs": []
    },
    {
      "cell_type": "code",
      "metadata": {
        "id": "AJaEI_icYdZE",
        "colab_type": "code",
        "colab": {
          "base_uri": "https://localhost:8080/",
          "height": 460
        },
        "outputId": "5f50e5a7-ea95-4b8c-e017-0355ebd1666b"
      },
      "source": [
        "# Plot\n",
        "plt.figure(figsize=(25,8))\n",
        "msg_sachin.groupby(['date1']).count()['msg'].plot()"
      ],
      "execution_count": 47,
      "outputs": [
        {
          "output_type": "execute_result",
          "data": {
            "text/plain": [
              "<matplotlib.axes._subplots.AxesSubplot at 0x7fe03b84a860>"
            ]
          },
          "metadata": {
            "tags": []
          },
          "execution_count": 47
        },
        {
          "output_type": "display_data",
          "data": {
            "image/png": "[encoded data removed]",
            "text/plain": [
              "<Figure size 1800x576 with 1 Axes>"
            ]
          },
          "metadata": {
            "tags": [],
            "needs_background": "light"
          }
        }
      ]
    },
    {
      "cell_type": "code",
      "metadata": {
        "id": "kw0ojDFaR7Wm",
        "colab_type": "code",
        "colab": {
          "base_uri": "https://localhost:8080/",
          "height": 437
        },
        "outputId": "5442ddae-8d34-43e8-d0a0-a6a9fca6bab2"
      },
      "source": [
        "plt.figure(figsize=(25,8))\n",
        "history.groupby(['date'])['msg_len'].mean().plot()"
      ],
      "execution_count": null,
      "outputs": [
        {
          "output_type": "execute_result",
          "data": {
            "text/plain": [
              "<matplotlib.axes._subplots.AxesSubplot at 0x7f9806b005c0>"
            ]
          },
          "metadata": {
            "tags": []
          },
          "execution_count": 13
        },
        {
          "output_type": "display_data",
          "data": {
            "image/png": "[encoded data removed]",
            "text/plain": [
              "<Figure size 1800x576 with 1 Axes>"
            ]
          },
          "metadata": {
            "tags": [],
            "needs_background": "light"
          }
        }
      ]
    },
    {
      "cell_type": "code",
      "metadata": {
        "id": "LbbuezNSk2PQ",
        "colab_type": "code",
        "colab": {}
      },
      "source": [
        "history_clean[history_clean['msg_len'] == history_clean['msg_len'].max()]['msg'].values"
      ],
      "execution_count": 48,
      "outputs": []
    },
    {
      "cell_type": "code",
      "metadata": {
        "id": "RIsvJz028mM7",
        "colab_type": "code",
        "colab": {}
      },
      "source": [
        "msg_sachin['day'] = msg_sachin['date'].dt.day_name()\n",
        "msg_sachin['day'].value_counts()"
      ],
      "execution_count": 49,
      "outputs": []
    },
    {
      "cell_type": "code",
      "metadata": {
        "id": "u7_LfP9KAOXi",
        "colab_type": "code",
        "colab": {}
      },
      "source": [
        "msg_sachin['datehour'] = msg_sachin['date'].dt.hour\n",
        "msg_sachin['datehour'].value_counts()"
      ],
      "execution_count": 50,
      "outputs": []
    },
    {
      "cell_type": "code",
      "metadata": {
        "id": "gp7Cxg_GDX2A",
        "colab_type": "code",
        "colab": {}
      },
      "source": [
        "msg_sachin['month'] = msg_sachin['date'].dt.month\n",
        "msg_sachin['month'].value_counts()"
      ],
      "execution_count": 51,
      "outputs": []
    },
    {
      "cell_type": "code",
      "metadata": {
        "id": "v1FmuSMIXfig",
        "colab_type": "code",
        "colab": {}
      },
      "source": [
        "# Counting number of emojis\n",
        "def extract_emojis(str):\n",
        "    return ''.join(c for c in str if c in emoji.UNICODE_EMOJI)\n",
        "\n",
        "def Count_Emojis(df):\n",
        "    series = df['msg']\n",
        "    all_words = \"\"\n",
        "    for sentence in series:\n",
        "        all_words += extract_emojis(sentence)\n",
        "    word_count = Counter(all_words)\n",
        "    \n",
        "    \n",
        "    ordered = {}\n",
        "    ordered['msg'] = []\n",
        "    for key, number in word_count.most_common()[:50]:\n",
        "        ordered[key] = []\n",
        "    \n",
        "    for sentence in series:\n",
        "        sentence_count = Counter(extract_emojis(sentence))\n",
        "        \n",
        "        for word in ordered:\n",
        "            count = sentence_count[word] if sentence_count[word] else 0\n",
        "            ordered[word] += [count]\n",
        "    ordered['msg'] = list(series)\n",
        "    ordered['date'] = list(df['date'])\n",
        "    ordered['date1'] = list(df['date1'])\n",
        "    ordered['name'] = list(df['name'])\n",
        "    return pd.DataFrame(ordered)"
      ],
      "execution_count": null,
      "outputs": []
    },
    {
      "cell_type": "code",
      "metadata": {
        "id": "zXMtCbiIkIHQ",
        "colab_type": "code",
        "colab": {}
      },
      "source": [
        "emojis_counts = Count_Emojis(msg_sachin)"
      ],
      "execution_count": null,
      "outputs": []
    },
    {
      "cell_type": "code",
      "metadata": {
        "id": "Diy65kuqq5vb",
        "colab_type": "code",
        "colab": {}
      },
      "source": [
        "emoji_freq = emojis_counts.sum()"
      ],
      "execution_count": null,
      "outputs": []
    },
    {
      "cell_type": "markdown",
      "metadata": {
        "id": "iBiir4kuT2Jr",
        "colab_type": "text"
      },
      "source": [
        "#NLP\n"
      ]
    },
    {
      "cell_type": "code",
      "metadata": {
        "id": "WbhYxKwNVgV_",
        "colab_type": "code",
        "colab": {
          "base_uri": "https://localhost:8080/",
          "height": 33
        },
        "outputId": "5d29e104-a7a2-4aaf-b7fc-c0a03a6983d7"
      },
      "source": [
        "#Sentiment Analysis\n",
        "nltk.download('vader_lexicon')\n",
        "from nltk.sentiment.vader import SentimentIntensityAnalyzer"
      ],
      "execution_count": 13,
      "outputs": [
        {
          "output_type": "stream",
          "text": [
            "[nltk_data] Downloading package vader_lexicon to /root/nltk_data...\n"
          ],
          "name": "stdout"
        }
      ]
    },
    {
      "cell_type": "code",
      "metadata": {
        "id": "CO2FW88A6ebu",
        "colab_type": "code",
        "colab": {
          "base_uri": "https://localhost:8080/",
          "height": 50
        },
        "outputId": "14ae82f6-c11e-4f2a-bbc7-90cd0ffb032a"
      },
      "source": [
        "vds = SentimentIntensityAnalyzer()\n",
        "#Example\n",
        "print(vds.polarity_scores(\"I think he is bad \"))\n",
        "print(vds.polarity_scores(\"I think he is not that bad \"))"
      ],
      "execution_count": 15,
      "outputs": [
        {
          "output_type": "stream",
          "text": [
            "{'neg': 0.538, 'neu': 0.462, 'pos': 0.0, 'compound': -0.5423}\n",
            "{'neg': 0.0, 'neu': 0.637, 'pos': 0.363, 'compound': 0.431}\n"
          ],
          "name": "stdout"
        }
      ]
    },
    {
      "cell_type": "code",
      "metadata": {
        "id": "BENJnJQqBq7Y",
        "colab_type": "code",
        "colab": {}
      },
      "source": [
        "history_clean['sentiment'] = 0"
      ],
      "execution_count": 16,
      "outputs": []
    },
    {
      "cell_type": "code",
      "metadata": {
        "id": "YkT9Xf826evv",
        "colab_type": "code",
        "colab": {}
      },
      "source": [
        "for index,row in history_clean.iterrows():\n",
        "  negative, neutral, positive,_ = vds.polarity_scores(row['msg']).values()\n",
        "  sentiment = (positive-negative)\n",
        "  history_clean.loc[index,'sentiment'] = sentiment"
      ],
      "execution_count": 53,
      "outputs": []
    },
    {
      "cell_type": "code",
      "metadata": {
        "id": "Ry5GL5CR6e3K",
        "colab_type": "code",
        "colab": {}
      },
      "source": [
        "pos =0\n",
        "neg =0\n",
        "neut =0\n",
        "for index,row in history_clean.iterrows():\n",
        "  if row['sentiment']>0:\n",
        "    pos = pos+1\n",
        "  elif row['sentiment']<0:\n",
        "    neg = neg+1\n",
        "  else:\n",
        "    neut = neut +1\n",
        "print(pos,neg,neut)"
      ],
      "execution_count": 56,
      "outputs": []
    },
    {
      "cell_type": "code",
      "metadata": {
        "id": "COMzHLbz6elp",
        "colab_type": "code",
        "colab": {}
      },
      "source": [
        "history_clean['month'] = history_clean['date'].dt.month"
      ],
      "execution_count": 25,
      "outputs": []
    },
    {
      "cell_type": "code",
      "metadata": {
        "id": "eQhvtd7vuFft",
        "colab_type": "code",
        "colab": {}
      },
      "source": [
        "msg_month = (history_clean[history_clean['month']==12])"
      ],
      "execution_count": 26,
      "outputs": []
    },
    {
      "cell_type": "code",
      "metadata": {
        "id": "1PwTrEsKvbfM",
        "colab_type": "code",
        "colab": {}
      },
      "source": [
        "msg_month['sentiment'].mean()"
      ],
      "execution_count": 55,
      "outputs": []
    },
    {
      "cell_type": "code",
      "metadata": {
        "id": "Nr9kJwXpTdwM",
        "colab_type": "code",
        "colab": {}
      },
      "source": [
        "#topic modelling\n",
        "\n",
        "def groupby_messages(data,n):\n",
        "    new_data = data.sort_values(by=['date'])\n",
        "    new_data['group'] = new_data.groupby(['date1','name']).cumcount()\n",
        "    new_data['group'] = new_data['group'].apply(lambda x: np.floor(x/float(n)))\n",
        "    new_data = new_data.groupby(['date1','name','group'])['msg'].sum().reset_index()                                \n",
        "    return new_data\n",
        "\n",
        "history_clean = groupby_messages(history_clean,5)"
      ],
      "execution_count": 29,
      "outputs": []
    },
    {
      "cell_type": "code",
      "metadata": {
        "id": "QEWPyU_CUBMo",
        "colab_type": "code",
        "colab": {}
      },
      "source": [
        "# Delete \" ' '\" in words \n",
        "def elimina_tildes(cadena):\n",
        "    s = ''.join((c for c in unicodedata.normalize('NFD',cadena) if unicodedata.category(c) != 'Mn'))\n",
        "    return s\n",
        "\n",
        "def custom_tokenizer(text):\n",
        "    remove_punct = str.maketrans('', '', string.punctuation)\n",
        "    text = text.translate(remove_punct)\n",
        "    remove_digits = str.maketrans('', '', string.digits)\n",
        "    text = text.lower().translate(remove_digits)\n",
        "    shortword = re.compile(r'\\W*\\b\\w{1,2}\\b')\n",
        "    text = shortword.sub('', text)\n",
        "    text = elimina_tildes(text)\n",
        "    text = re.sub(r'([a-z])\\1+', r'\\1', text)\n",
        "    text = re.sub(r'(ha)[ha]*', 'ha', text)\n",
        "    tokens = word_tokenize(text)\n",
        "    stop_words = stopwords.words('english')\n",
        "    tokens_stop = [y for y in tokens if y not in stop_words]\n",
        "    return tokens_stop"
      ],
      "execution_count": 31,
      "outputs": []
    },
    {
      "cell_type": "code",
      "metadata": {
        "id": "vF0cwq4BUgev",
        "colab_type": "code",
        "colab": {}
      },
      "source": [
        "def run_NMF_model(data,max_df,n_components):\n",
        "    tfidf = TfidfVectorizer(tokenizer=custom_tokenizer,max_df=max_df,min_df = 100) \n",
        "    X = tfidf.fit_transform(data)       \n",
        "    nmf = NMF(n_components=n_components,random_state=0)\n",
        "    doc_topics = nmf.fit_transform(X)\n",
        "    t = np.argmax(doc_topics,axis=1)\n",
        "    counts = pd.Series(t).value_counts()\n",
        "    d = nmf.components_\n",
        "    w = tfidf.get_feature_names()\n",
        "    words = []\n",
        "    for r in range(len(d)):\n",
        "        a = sorted([(v,i) for i,v in enumerate(d[r])],reverse=True)[0:10]\n",
        "        words.append([w[e[1]] for e in a])\n",
        "    return doc_topics, t, words"
      ],
      "execution_count": 32,
      "outputs": []
    },
    {
      "cell_type": "code",
      "metadata": {
        "id": "6ViTmTOQUsOn",
        "colab_type": "code",
        "colab": {}
      },
      "source": [
        "doc_topics, t, words = run_NMF_model(history_clean['msg'],0.50,10)"
      ],
      "execution_count": 33,
      "outputs": []
    },
    {
      "cell_type": "code",
      "metadata": {
        "id": "Zv9ViS6CUuBN",
        "colab_type": "code",
        "colab": {
          "base_uri": "https://localhost:8080/",
          "height": 281
        },
        "outputId": "e906d5aa-c8d9-47e5-c7ca-9dc1ee193335"
      },
      "source": [
        "t = np.argmax(doc_topics,axis=1)\n",
        "plt.bar(pd.Series(t).unique(),pd.Series(t).value_counts())"
      ],
      "execution_count": null,
      "outputs": [
        {
          "output_type": "execute_result",
          "data": {
            "text/plain": [
              "<BarContainer object of 10 artists>"
            ]
          },
          "metadata": {
            "tags": []
          },
          "execution_count": 50
        },
        {
          "output_type": "display_data",
          "data": {
            "image/png": "[encoded data removed]",
            "text/plain": [
              "<Figure size 432x288 with 1 Axes>"
            ]
          },
          "metadata": {
            "tags": [],
            "needs_background": "light"
          }
        }
      ]
    },
    {
      "cell_type": "code",
      "metadata": {
        "id": "5lsf4uJjJ_fN",
        "colab_type": "code",
        "colab": {}
      },
      "source": [
        "clas = ['Group Discussion', 'Questioning', 'Bad news','Asking for help','good wishes','planning','Asking for help', 'small talk',  'academic talk', 'good wishes']"
      ],
      "execution_count": 34,
      "outputs": []
    },
    {
      "cell_type": "code",
      "metadata": {
        "id": "oU1bS3ZIV6WE",
        "colab_type": "code",
        "colab": {}
      },
      "source": [
        "classification = pd.DataFrame({\"topic\":range(10),\"classification\":clas, 'words':words})"
      ],
      "execution_count": 36,
      "outputs": []
    },
    {
      "cell_type": "code",
      "metadata": {
        "id": "YSvpf8r5V8H_",
        "colab_type": "code",
        "colab": {
          "base_uri": "https://localhost:8080/",
          "height": 345
        },
        "outputId": "4d0ee6c1-21ba-4c69-c364-21df9b8b02b0"
      },
      "source": [
        "classification"
      ],
      "execution_count": 37,
      "outputs": [
        {
          "output_type": "execute_result",
          "data": {
            "text/html": [
              "<div>\n",
              "<style scoped>\n",
              "    .dataframe tbody tr th:only-of-type {\n",
              "        vertical-align: middle;\n",
              "    }\n",
              "\n",
              "    .dataframe tbody tr th {\n",
              "        vertical-align: top;\n",
              "    }\n",
              "\n",
              "    .dataframe thead th {\n",
              "        text-align: right;\n",
              "    }\n",
              "</style>\n",
              "<table border=\"1\" class=\"dataframe\">\n",
              "  <thead>\n",
              "    <tr style=\"text-align: right;\">\n",
              "      <th></th>\n",
              "      <th>topic</th>\n",
              "      <th>classification</th>\n",
              "      <th>words</th>\n",
              "    </tr>\n",
              "  </thead>\n",
              "  <tbody>\n",
              "    <tr>\n",
              "      <th>0</th>\n",
              "      <td>0</td>\n",
              "      <td>Group Discussion</td>\n",
              "      <td>[media, omited, tha, gya, one, al, share, grou...</td>\n",
              "    </tr>\n",
              "    <tr>\n",
              "      <th>1</th>\n",
              "      <td>1</td>\n",
              "      <td>Questioning</td>\n",
              "      <td>[hai, raha, pas, nahi, clas, liye, aur, test, ...</td>\n",
              "    </tr>\n",
              "    <tr>\n",
              "      <th>2</th>\n",
              "      <td>2</td>\n",
              "      <td>Bad news</td>\n",
              "      <td>[bhi, nahi, toh, kar, tha, aur, raha, kuch, ko...</td>\n",
              "    </tr>\n",
              "    <tr>\n",
              "      <th>3</th>\n",
              "      <td>3</td>\n",
              "      <td>Asking for help</td>\n",
              "      <td>[kya, koi, rha, kisi, clas, raha, hoga, tha, t...</td>\n",
              "    </tr>\n",
              "    <tr>\n",
              "      <th>4</th>\n",
              "      <td>4</td>\n",
              "      <td>good wishes</td>\n",
              "      <td>[bhai, congrats, thanks, log, congratulations,...</td>\n",
              "    </tr>\n",
              "    <tr>\n",
              "      <th>5</th>\n",
              "      <td>5</td>\n",
              "      <td>planning</td>\n",
              "      <td>[wil, al, sir, get, time, one, also, clas, tak...</td>\n",
              "    </tr>\n",
              "    <tr>\n",
              "      <th>6</th>\n",
              "      <td>6</td>\n",
              "      <td>Asking for help</td>\n",
              "      <td>[mesage, deleted, group, please, send, tha, ka...</td>\n",
              "    </tr>\n",
              "    <tr>\n",
              "      <th>7</th>\n",
              "      <td>7</td>\n",
              "      <td>small talk</td>\n",
              "      <td>[omitedmedia, media, sir, kar, wala, din, raha...</td>\n",
              "    </tr>\n",
              "    <tr>\n",
              "      <th>8</th>\n",
              "      <td>8</td>\n",
              "      <td>academic talk</td>\n",
              "      <td>[nhi, clas, koi, rha, tha, kuch, test, toh, hu...</td>\n",
              "    </tr>\n",
              "    <tr>\n",
              "      <th>9</th>\n",
              "      <td>9</td>\n",
              "      <td>good wishes</td>\n",
              "      <td>[hapy, new, year, birthday, al, everyone, guys...</td>\n",
              "    </tr>\n",
              "  </tbody>\n",
              "</table>\n",
              "</div>"
            ],
            "text/plain": [
              "   topic    classification                                              words\n",
              "0      0  Group Discussion  [media, omited, tha, gya, one, al, share, grou...\n",
              "1      1       Questioning  [hai, raha, pas, nahi, clas, liye, aur, test, ...\n",
              "2      2          Bad news  [bhi, nahi, toh, kar, tha, aur, raha, kuch, ko...\n",
              "3      3   Asking for help  [kya, koi, rha, kisi, clas, raha, hoga, tha, t...\n",
              "4      4       good wishes  [bhai, congrats, thanks, log, congratulations,...\n",
              "5      5          planning  [wil, al, sir, get, time, one, also, clas, tak...\n",
              "6      6   Asking for help  [mesage, deleted, group, please, send, tha, ka...\n",
              "7      7        small talk  [omitedmedia, media, sir, kar, wala, din, raha...\n",
              "8      8     academic talk  [nhi, clas, koi, rha, tha, kuch, test, toh, hu...\n",
              "9      9       good wishes  [hapy, new, year, birthday, al, everyone, guys..."
            ]
          },
          "metadata": {
            "tags": []
          },
          "execution_count": 37
        }
      ]
    },
    {
      "cell_type": "code",
      "metadata": {
        "id": "iBmb7nZePYvo",
        "colab_type": "code",
        "colab": {}
      },
      "source": [
        "model1 = history_clean\n",
        "model1['topic'] = t\n",
        "model1['sent'] = model1['name'].apply(lambda x: 'sent' if x=='Lai' else 'received')\n",
        "model1 = model1.merge(classification,on='topic')"
      ],
      "execution_count": 38,
      "outputs": []
    },
    {
      "cell_type": "code",
      "metadata": {
        "id": "EIAED8hXP0v-",
        "colab_type": "code",
        "colab": {
          "base_uri": "https://localhost:8080/",
          "height": 167
        },
        "outputId": "d3503629-9cd3-42e5-d931-dabf0ea98cd2"
      },
      "source": [
        "model1['classification'].value_counts()"
      ],
      "execution_count": 39,
      "outputs": [
        {
          "output_type": "execute_result",
          "data": {
            "text/plain": [
              "Group Discussion    4467\n",
              "Bad news            2672\n",
              "planning            2370\n",
              "academic talk       1893\n",
              "Questioning         1798\n",
              "good wishes         1513\n",
              "Asking for help     1476\n",
              "small talk           367\n",
              "Name: classification, dtype: int64"
            ]
          },
          "metadata": {
            "tags": []
          },
          "execution_count": 39
        }
      ]
    },
    {
      "cell_type": "code",
      "metadata": {
        "id": "hrNOm0_Kf-jo",
        "colab_type": "code",
        "colab": {}
      },
      "source": [
        ""
      ],
      "execution_count": null,
      "outputs": []
    }
  ]
}