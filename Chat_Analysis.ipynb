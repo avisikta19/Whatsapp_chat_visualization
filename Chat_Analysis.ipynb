{
  "nbformat": 4,
  "nbformat_minor": 0,
  "metadata": {
    "colab": {
      "name": "Chat Analysis.ipynb",
      "provenance": []
    },
    "kernelspec": {
      "name": "python3",
      "display_name": "Python 3"
    }
  },
  "cells": [
    {
      "cell_type": "code",
      "metadata": {
        "id": "Df0Ray0aBcus",
        "colab_type": "code",
        "colab": {
          "base_uri": "https://localhost:8080/",
          "height": 33
        },
        "outputId": "94347411-fac5-4abb-f066-2d013ba0cf62"
      },
      "source": [
        "cd /content/drive/My\\ Drive/Whatsapp\\ Chat\\ Analysis/"
      ],
      "execution_count": 3,
      "outputs": [
        {
          "output_type": "stream",
          "text": [
            "/content/drive/.shortcut-targets-by-id/1ymUvpbcyy9XxHjLxlR6sWaTwc-lXXR-I/Whatsapp Chat Analysis\n"
          ],
          "name": "stdout"
        }
      ]
    },
    {
      "cell_type": "code",
      "metadata": {
        "id": "pTVvf2xgjLx3",
        "colab_type": "code",
        "colab": {
          "base_uri": "https://localhost:8080/",
          "height": 184
        },
        "outputId": "cf452d80-5ecb-436e-ec2f-9da5a75a5d2a"
      },
      "source": [
        " pip install emoji --upgrade"
      ],
      "execution_count": 4,
      "outputs": [
        {
          "output_type": "stream",
          "text": [
            "Collecting emoji\n",
            "\u001b[?25l  Downloading https://files.pythonhosted.org/packages/ff/1c/1f1457fe52d0b30cbeebfd578483cedb3e3619108d2d5a21380dfecf8ffd/emoji-0.6.0.tar.gz (51kB)\n",
            "\r\u001b[K     |██████▍                         | 10kB 14.5MB/s eta 0:00:01\r\u001b[K     |████████████▉                   | 20kB 1.6MB/s eta 0:00:01\r\u001b[K     |███████████████████▎            | 30kB 2.2MB/s eta 0:00:01\r\u001b[K     |█████████████████████████▊      | 40kB 2.4MB/s eta 0:00:01\r\u001b[K     |████████████████████████████████| 51kB 1.4MB/s \n",
            "\u001b[?25hBuilding wheels for collected packages: emoji\n",
            "  Building wheel for emoji (setup.py) ... \u001b[?25l\u001b[?25hdone\n",
            "  Created wheel for emoji: filename=emoji-0.6.0-cp36-none-any.whl size=49714 sha256=78227fefc98233aba6e752883fa86135d0efc9f5cd02c8397811e03014812f72\n",
            "  Stored in directory: /root/.cache/pip/wheels/46/2c/8b/9dcf5216ca68e14e0320e283692dce8ae321cdc01e73e17796\n",
            "Successfully built emoji\n",
            "Installing collected packages: emoji\n",
            "Successfully installed emoji-0.6.0\n"
          ],
          "name": "stdout"
        }
      ]
    },
    {
      "cell_type": "code",
      "metadata": {
        "id": "Tvo3eeOKSAmA",
        "colab_type": "code",
        "colab": {
          "base_uri": "https://localhost:8080/",
          "height": 70
        },
        "outputId": "420716a2-0fa2-419f-b183-5ccb0acce8ec"
      },
      "source": [
        "import re\n",
        "import pandas as pd\n",
        "import numpy as np\n",
        "\n",
        "import os\n",
        "import pandas as pd\n",
        "pd.set_option('display.max_rows', 500)\n",
        "\n",
        "import datetime as dt\n",
        "from matplotlib import pyplot as plt\n",
        "%matplotlib inline\n",
        "import seaborn as sns\n",
        "\n",
        "import re\n",
        "\n",
        "from collections import Counter\n",
        "\n",
        "import string\n",
        "import emoji\n",
        "\n",
        "import pickle"
      ],
      "execution_count": 5,
      "outputs": [
        {
          "output_type": "stream",
          "text": [
            "/usr/local/lib/python3.6/dist-packages/statsmodels/tools/_testing.py:19: FutureWarning: pandas.util.testing is deprecated. Use the functions in the public API at pandas.testing instead.\n",
            "  import pandas.util.testing as tm\n"
          ],
          "name": "stderr"
        }
      ]
    },
    {
      "cell_type": "code",
      "metadata": {
        "id": "ZLsm6-umkb5m",
        "colab_type": "code",
        "colab": {}
      },
      "source": [
        "def read(file):\n",
        "    f = open('/content/drive/My Drive/Whatsapp Chat Analysis/{}'.format(file), 'r') \n",
        "    messages = re.findall('(\\d+/\\d+/\\d+, \\d+:\\d+\\d+ ([\\w]+)) - (.*?): (.*)', f.read())\n",
        "    f.close()\n",
        "    hist = pd.DataFrame(messages,columns=['date','am-pm','name','msg'])\n",
        "    hist['date'] = pd.to_datetime(hist['date'],format=\"%d/%m/%y, %I:%M %p\")\n",
        "    hist['msg_len'] = hist['msg'].str.len()\n",
        "    hist['date1'] = hist['date'].apply(lambda x: x.date())\n",
        "    return hist"
      ],
      "execution_count": 6,
      "outputs": []
    },
    {
      "cell_type": "code",
      "metadata": {
        "id": "P_5eOtyJkubF",
        "colab_type": "code",
        "colab": {}
      },
      "source": [
        "files = os.listdir('/content/drive/My Drive/Whatsapp Chat Analysis')\n",
        "lst = []\n",
        "for file in files:\n",
        "    history = read(file)\n",
        "    lst.append(history)    \n",
        "history = pd.concat(lst).reset_index()     "
      ],
      "execution_count": 7,
      "outputs": []
    },
    {
      "cell_type": "code",
      "metadata": {
        "id": "xQObWJ85mlUq",
        "colab_type": "code",
        "colab": {
          "base_uri": "https://localhost:8080/",
          "height": 107
        },
        "outputId": "9c339b62-bc17-4ad6-bf1c-840cef93dc7b"
      },
      "source": [
        "history.head(2)"
      ],
      "execution_count": 9,
      "outputs": [
        {
          "output_type": "execute_result",
          "data": {
            "text/html": [
              "<div>\n",
              "<style scoped>\n",
              "    .dataframe tbody tr th:only-of-type {\n",
              "        vertical-align: middle;\n",
              "    }\n",
              "\n",
              "    .dataframe tbody tr th {\n",
              "        vertical-align: top;\n",
              "    }\n",
              "\n",
              "    .dataframe thead th {\n",
              "        text-align: right;\n",
              "    }\n",
              "</style>\n",
              "<table border=\"1\" class=\"dataframe\">\n",
              "  <thead>\n",
              "    <tr style=\"text-align: right;\">\n",
              "      <th></th>\n",
              "      <th>index</th>\n",
              "      <th>date</th>\n",
              "      <th>am-pm</th>\n",
              "      <th>name</th>\n",
              "      <th>msg</th>\n",
              "      <th>msg_len</th>\n",
              "      <th>date1</th>\n",
              "    </tr>\n",
              "  </thead>\n",
              "  <tbody>\n",
              "    <tr>\n",
              "      <th>0</th>\n",
              "      <td>0</td>\n",
              "      <td>2019-09-26 21:20:00</td>\n",
              "      <td>pm</td>\n",
              "      <td>sachin</td>\n",
              "      <td>Helo</td>\n",
              "      <td>4</td>\n",
              "      <td>2019-09-26</td>\n",
              "    </tr>\n",
              "    <tr>\n",
              "      <th>1</th>\n",
              "      <td>1</td>\n",
              "      <td>2019-09-26 21:20:00</td>\n",
              "      <td>pm</td>\n",
              "      <td>Diwakar Awaaz 1</td>\n",
              "      <td>I m 💀</td>\n",
              "      <td>5</td>\n",
              "      <td>2019-09-26</td>\n",
              "    </tr>\n",
              "  </tbody>\n",
              "</table>\n",
              "</div>"
            ],
            "text/plain": [
              "   index                date am-pm             name    msg  msg_len       date1\n",
              "0      0 2019-09-26 21:20:00    pm           sachin   Helo        4  2019-09-26\n",
              "1      1 2019-09-26 21:20:00    pm  Diwakar Awaaz 1  I m 💀        5  2019-09-26"
            ]
          },
          "metadata": {
            "tags": []
          },
          "execution_count": 9
        }
      ]
    },
    {
      "cell_type": "code",
      "metadata": {
        "id": "F_E4skWcRMGC",
        "colab_type": "code",
        "colab": {}
      },
      "source": [
        "history_clean = history[history['msg']!=' <Media omitted>']"
      ],
      "execution_count": 18,
      "outputs": []
    },
    {
      "cell_type": "code",
      "metadata": {
        "id": "hLyEVCOtnfPC",
        "colab_type": "code",
        "colab": {
          "base_uri": "https://localhost:8080/",
          "height": 33
        },
        "outputId": "e39622c0-8d88-4ae8-90e0-d95a2f54d57c"
      },
      "source": [
        "history_clean[history_clean['name']=='sachin']['msg'].count()"
      ],
      "execution_count": 20,
      "outputs": [
        {
          "output_type": "execute_result",
          "data": {
            "text/plain": [
              "58006"
            ]
          },
          "metadata": {
            "tags": []
          },
          "execution_count": 20
        }
      ]
    },
    {
      "cell_type": "code",
      "metadata": {
        "id": "qgnw6lQkXr-d",
        "colab_type": "code",
        "colab": {
          "base_uri": "https://localhost:8080/",
          "height": 33
        },
        "outputId": "4cc79e93-7fd6-4585-b0e5-c57fc4e22eb2"
      },
      "source": [
        "history_clean['name'].nunique() "
      ],
      "execution_count": 21,
      "outputs": [
        {
          "output_type": "execute_result",
          "data": {
            "text/plain": [
              "379"
            ]
          },
          "metadata": {
            "tags": []
          },
          "execution_count": 21
        }
      ]
    },
    {
      "cell_type": "code",
      "metadata": {
        "id": "ciMbyV_YT2Js",
        "colab_type": "code",
        "colab": {}
      },
      "source": [
        "# Create a subset of the dataframe with only messages i've sent\n",
        "msg_sachin = (history_clean[history_clean['name']=='sachin'])"
      ],
      "execution_count": 25,
      "outputs": []
    },
    {
      "cell_type": "code",
      "metadata": {
        "id": "OeIdzNkeT3b6",
        "colab_type": "code",
        "colab": {
          "base_uri": "https://localhost:8080/",
          "height": 404
        },
        "outputId": "9a5ed565-248d-4f3e-c028-5cde7ebb587c"
      },
      "source": [
        "msg_sachin.shape"
      ],
      "execution_count": 33,
      "outputs": [
        {
          "output_type": "execute_result",
          "data": {
            "text/html": [
              "<div>\n",
              "<style scoped>\n",
              "    .dataframe tbody tr th:only-of-type {\n",
              "        vertical-align: middle;\n",
              "    }\n",
              "\n",
              "    .dataframe tbody tr th {\n",
              "        vertical-align: top;\n",
              "    }\n",
              "\n",
              "    .dataframe thead th {\n",
              "        text-align: right;\n",
              "    }\n",
              "</style>\n",
              "<table border=\"1\" class=\"dataframe\">\n",
              "  <thead>\n",
              "    <tr style=\"text-align: right;\">\n",
              "      <th></th>\n",
              "      <th>index</th>\n",
              "      <th>date</th>\n",
              "      <th>am-pm</th>\n",
              "      <th>name</th>\n",
              "      <th>msg</th>\n",
              "      <th>msg_len</th>\n",
              "      <th>date1</th>\n",
              "      <th>day</th>\n",
              "      <th>datehour</th>\n",
              "    </tr>\n",
              "  </thead>\n",
              "  <tbody>\n",
              "    <tr>\n",
              "      <th>0</th>\n",
              "      <td>0</td>\n",
              "      <td>2019-09-26 21:20:00</td>\n",
              "      <td>pm</td>\n",
              "      <td>sachin</td>\n",
              "      <td>Helo</td>\n",
              "      <td>4</td>\n",
              "      <td>2019-09-26</td>\n",
              "      <td>Thursday</td>\n",
              "      <td>21</td>\n",
              "    </tr>\n",
              "    <tr>\n",
              "      <th>5</th>\n",
              "      <td>5</td>\n",
              "      <td>2019-09-26 21:23:00</td>\n",
              "      <td>pm</td>\n",
              "      <td>sachin</td>\n",
              "      <td>&lt;Media omitted&gt;</td>\n",
              "      <td>15</td>\n",
              "      <td>2019-09-26</td>\n",
              "      <td>Thursday</td>\n",
              "      <td>21</td>\n",
              "    </tr>\n",
              "    <tr>\n",
              "      <th>7</th>\n",
              "      <td>7</td>\n",
              "      <td>2019-09-26 21:24:00</td>\n",
              "      <td>pm</td>\n",
              "      <td>sachin</td>\n",
              "      <td>Nah</td>\n",
              "      <td>3</td>\n",
              "      <td>2019-09-26</td>\n",
              "      <td>Thursday</td>\n",
              "      <td>21</td>\n",
              "    </tr>\n",
              "    <tr>\n",
              "      <th>8</th>\n",
              "      <td>8</td>\n",
              "      <td>2019-09-26 21:24:00</td>\n",
              "      <td>pm</td>\n",
              "      <td>sachin</td>\n",
              "      <td>I'm fine</td>\n",
              "      <td>8</td>\n",
              "      <td>2019-09-26</td>\n",
              "      <td>Thursday</td>\n",
              "      <td>21</td>\n",
              "    </tr>\n",
              "    <tr>\n",
              "      <th>10</th>\n",
              "      <td>10</td>\n",
              "      <td>2019-09-26 21:59:00</td>\n",
              "      <td>pm</td>\n",
              "      <td>sachin</td>\n",
              "      <td>Where are you?</td>\n",
              "      <td>14</td>\n",
              "      <td>2019-09-26</td>\n",
              "      <td>Thursday</td>\n",
              "      <td>21</td>\n",
              "    </tr>\n",
              "    <tr>\n",
              "      <th>...</th>\n",
              "      <td>...</td>\n",
              "      <td>...</td>\n",
              "      <td>...</td>\n",
              "      <td>...</td>\n",
              "      <td>...</td>\n",
              "      <td>...</td>\n",
              "      <td>...</td>\n",
              "      <td>...</td>\n",
              "      <td>...</td>\n",
              "    </tr>\n",
              "    <tr>\n",
              "      <th>189214</th>\n",
              "      <td>202</td>\n",
              "      <td>2019-07-28 15:23:00</td>\n",
              "      <td>pm</td>\n",
              "      <td>sachin</td>\n",
              "      <td>Order krna tha</td>\n",
              "      <td>14</td>\n",
              "      <td>2019-07-28</td>\n",
              "      <td>Sunday</td>\n",
              "      <td>15</td>\n",
              "    </tr>\n",
              "    <tr>\n",
              "      <th>189215</th>\n",
              "      <td>203</td>\n",
              "      <td>2019-07-28 15:23:00</td>\n",
              "      <td>pm</td>\n",
              "      <td>sachin</td>\n",
              "      <td>Kr liya</td>\n",
              "      <td>7</td>\n",
              "      <td>2019-07-28</td>\n",
              "      <td>Sunday</td>\n",
              "      <td>15</td>\n",
              "    </tr>\n",
              "    <tr>\n",
              "      <th>189221</th>\n",
              "      <td>209</td>\n",
              "      <td>2020-02-27 10:14:00</td>\n",
              "      <td>am</td>\n",
              "      <td>sachin</td>\n",
              "      <td>Acha</td>\n",
              "      <td>4</td>\n",
              "      <td>2020-02-27</td>\n",
              "      <td>Thursday</td>\n",
              "      <td>10</td>\n",
              "    </tr>\n",
              "    <tr>\n",
              "      <th>189222</th>\n",
              "      <td>210</td>\n",
              "      <td>2020-02-27 10:14:00</td>\n",
              "      <td>am</td>\n",
              "      <td>sachin</td>\n",
              "      <td>Okay</td>\n",
              "      <td>4</td>\n",
              "      <td>2020-02-27</td>\n",
              "      <td>Thursday</td>\n",
              "      <td>10</td>\n",
              "    </tr>\n",
              "    <tr>\n",
              "      <th>189225</th>\n",
              "      <td>0</td>\n",
              "      <td>2017-06-22 15:19:00</td>\n",
              "      <td>pm</td>\n",
              "      <td>sachin</td>\n",
              "      <td>Apke pass DSLR hai kya? 22/06/17, 3:35 pm - Bi...</td>\n",
              "      <td>25499</td>\n",
              "      <td>2017-06-22</td>\n",
              "      <td>Thursday</td>\n",
              "      <td>15</td>\n",
              "    </tr>\n",
              "  </tbody>\n",
              "</table>\n",
              "<p>58006 rows × 9 columns</p>\n",
              "</div>"
            ],
            "text/plain": [
              "        index                date am-pm  ...       date1       day  datehour\n",
              "0           0 2019-09-26 21:20:00    pm  ...  2019-09-26  Thursday        21\n",
              "5           5 2019-09-26 21:23:00    pm  ...  2019-09-26  Thursday        21\n",
              "7           7 2019-09-26 21:24:00    pm  ...  2019-09-26  Thursday        21\n",
              "8           8 2019-09-26 21:24:00    pm  ...  2019-09-26  Thursday        21\n",
              "10         10 2019-09-26 21:59:00    pm  ...  2019-09-26  Thursday        21\n",
              "...       ...                 ...   ...  ...         ...       ...       ...\n",
              "189214    202 2019-07-28 15:23:00    pm  ...  2019-07-28    Sunday        15\n",
              "189215    203 2019-07-28 15:23:00    pm  ...  2019-07-28    Sunday        15\n",
              "189221    209 2020-02-27 10:14:00    am  ...  2020-02-27  Thursday        10\n",
              "189222    210 2020-02-27 10:14:00    am  ...  2020-02-27  Thursday        10\n",
              "189225      0 2017-06-22 15:19:00    pm  ...  2017-06-22  Thursday        15\n",
              "\n",
              "[58006 rows x 9 columns]"
            ]
          },
          "metadata": {
            "tags": []
          },
          "execution_count": 33
        }
      ]
    },
    {
      "cell_type": "code",
      "metadata": {
        "id": "AJaEI_icYdZE",
        "colab_type": "code",
        "colab": {
          "base_uri": "https://localhost:8080/",
          "height": 460
        },
        "outputId": "352224bc-500c-40bc-e9a3-658a3c8ff9f7"
      },
      "source": [
        "# Plot\n",
        "plt.figure(figsize=(25,8))\n",
        "msg_sachin.groupby(['date1']).count()['msg'].plot()"
      ],
      "execution_count": 31,
      "outputs": [
        {
          "output_type": "execute_result",
          "data": {
            "text/plain": [
              "<matplotlib.axes._subplots.AxesSubplot at 0x7f843a6bf320>"
            ]
          },
          "metadata": {
            "tags": []
          },
          "execution_count": 31
        },
        {
          "output_type": "display_data",
          "data": {
            "image/png": "[encoded data removed]",
            "text/plain": [
              "<Figure size 1800x576 with 1 Axes>"
            ]
          },
          "metadata": {
            "tags": [],
            "needs_background": "light"
          }
        }
      ]
    },
    {
      "cell_type": "code",
      "metadata": {
        "id": "kw0ojDFaR7Wm",
        "colab_type": "code",
        "colab": {
          "base_uri": "https://localhost:8080/",
          "height": 436
        },
        "outputId": "9a01d564-eb22-4f2c-a520-d828804498d7"
      },
      "source": [
        "plt.figure(figsize=(25,8))\n",
        "history.groupby(['date'])['msg_len'].mean().plot()"
      ],
      "execution_count": 32,
      "outputs": [
        {
          "output_type": "execute_result",
          "data": {
            "text/plain": [
              "<matplotlib.axes._subplots.AxesSubplot at 0x7f843a6827b8>"
            ]
          },
          "metadata": {
            "tags": []
          },
          "execution_count": 32
        },
        {
          "output_type": "display_data",
          "data": {
            "image/png": "[encoded data removed]",
            "text/plain": [
              "<Figure size 1800x576 with 1 Axes>"
            ]
          },
          "metadata": {
            "tags": [],
            "needs_background": "light"
          }
        }
      ]
    },
    {
      "cell_type": "code",
      "metadata": {
        "id": "LbbuezNSk2PQ",
        "colab_type": "code",
        "colab": {
          "base_uri": "https://localhost:8080/",
          "height": 70
        },
        "outputId": "c1a946df-4b09-4233-807b-e347b117b63d"
      },
      "source": [
        "history_clean[history_clean['msg_len'] == history_clean['msg_len'].max()]['msg'].values"
      ],
      "execution_count": 65,
      "outputs": [
        {
          "output_type": "execute_result",
          "data": {
            "text/plain": [
              "array(['*Special Offer for all Jio Customers*  *Activate Jio Prime Membership Free For Today Only* *Otherwise you have to pay Rs99 and Rs 301.*  *So ACTIVATE JIO PRIME MEMBERSHIP FREE*  Jio Team. Link - http://Jio-Prime-Activation.ml/?Free\\'],\\\\n\",\" [\\'22/06/17\\', \\'12:39 pm\\', \\'sachin\\', \\'<Media omitted>\\'],\\\\n\",\" [\\'22/06/17\\', \\'12:40 pm\\', \\'sachin\\', \\'HS = Economics\\'],\\\\n\",\" [\\'22/06/17\\', \\'12:42 pm\\', \\'sachin\\', \\'1st phase ka placement data hai\\'],\\\\n\",\" [\\'22/06/17\\', \\'12:57 pm\\', \\'sachin\\', \\'Finance consulting hai\\'],\\\\n\",\" [\\'22/06/17\\', \\'12:57 pm\\', \\'sachin\\', \\'Risk management etc\\'],\\\\n\",\" [\\'22/06/17\\', \\'12:57 pm\\', \\'sachin\\', \\'Coding ka koi use nii😅\\'],\\\\n\",\" [\\'22/06/17\\',\\\\n\",\"  \\'12:58 pm\\',\\\\n\",\"  \\'Bittu mama\\',\\\\n\",\"  \\'👍🏻👍🏻 22/06/17, 3:19 pm - sachin: Apke pass DSLR hai kya? 22/06/17, 3:35 pm - Bittu mama: 🙃 22/06/17, 3:37 pm - sachin: Bada wala lens hai 22/06/17, 3:38 pm - Bittu mama: 🙁 22/06/17, 3:38 pm - sachin: 👍🏻\\'],\\\\n\",\" [\\'05/07/17\\',\\\\n\",\"  \\'10:35 am\\',\\\\n\",\"  \\'sachin\\',\\\\n\",\"  \\'Google drive movies https://drive.google.com/drive/u/0/mobile/folders/0B6FjKMQKynZILTlwZHl4ajUwcFU Programming language collection on google drive - https://drive.google.com/drive/folders/0ByWO0aO1eI_MN1BEd3VNRUZENkU Books - https://drive.google.com/drive/folders/0B0hgUX3me1_RNi1KTXBzXzdXSzA Google drive hacking ebook collection - https://drive.google.com/drive/folders/0B-JzQsKoJaANbTFGN0RWLWhONms Books for reading - https://drive.google.com/drive/folders/0B09qtt10aqV1SGxRVXBWYmNIS2M Books (novels) - https://drive.google.com/drive/folders/0B1v9Iy1jH3FXdlNDeUNHNEVsZlE Books - https://drive.google.com/drive/folders/0B1Ef5shqGHDNRGEwd3BYb0N3Um8 C programming tutorial google drive - https://drive.google.com/drive/folders/0B1qoi1IlEKwaM2tSMFBmOGUyNzg Udemy course google drive link - https://drive.google.com/drive/folders/0B1HQDi7EkA9XNlR3STF5SVJIVUk Programming books google drive - https://drive.google.com/drive/folders/0B2iEK7PB5AR-b01obXBHWHVHQzg Linux books - https://drive.google.com/drive/folders/0B1Wzf8eTK3LTYWtqOGlnQldTV2c 4K wallpaper google drive - https://drive.google.com/drive/folders/0Bx2Vez2N3qd7SGxkejRhQmdKQlk https://drive.google.com/drive/folders/0B2VhgL11XGQoamJCNGprcUJ2Zms Books for reading - https://drive.google.com/drive/folders/0B_qpgvDTe8kraTQ2QkM2S19tQWs Books - https://drive.google.com/drive/folders/0B4PtWlBoZ1rVSncxbi1JVFY4anM Best collection google drive - https://drive.google.com/drive/folders/0B3Qd1rlyIyR5bHo0dENpM1lSclk Banking exam preparation papers - https://drive.google.com/drive/folders/0B079Cm0MfQeyS3R5cHVnb2RVUU0 Learning awareness banking lecture - https://drive.google.com/drive/folders/0B8CnCCd60bnzM3VSWFhKZ2Rzc2s Head first programming book collection - https://drive.google.com/drive/folders/0B1W3DeV5S5BELXZRajkteW83WHM IBPS book collection for banking - https://drive.google.com/drive/folders/0B4xFnW1qvXXgZnVkaUVEX2w4Zzg Reading material - https://drive.google.com/drive/folders/0Bx_3I5qjqu3rSVBWMHpjLVRoREE 300 medical books - https://drive.google.com/drive/folders/0BzQUrkcZOjAiYmQ0NTBjZmMtMDJjMS00OWViLTk0NWEtYTFhYzE2ZTZmYzdk [Udemy] the complete digital marketing course - https://drive.google.com/drive/folders/0B-M90IqpPfRHNXZ6SkdMQlZOUkk Arduino step by step - https://drive.google.com/drive/folders/0B0TIoKgqQ9p5WC1pV2I0aHlKamc All type books - https://drive.google.com/drive/folders/0B1dv5sqSPsPbfk1ZSXNud1pvWl9BV2Franh2ZFl0S0hweTBhT3QyNFUxWGgzQkFpOGUtd0k Mechanical engineering books - https://drive.google.com/drive/folders/0B1k2RCDnejGvNFZWTWhJeDctWDQ Study books - https://drive.google.com/drive/folders/0B6hG9OOiP0g2Zkh4M2x3WnVJNWs English - https://drive.google.com/drive/folders/0B5xOSW6DBC5LfkVZWTJqYUZOblgyQnlhSlc2U1RJWUFyWjBnUXc0dHlrTHR5dEUySXNYc0E English grammer - https://drive.google.com/drive/folders/0B1_NUA4_UggJYUIwc09LX1dfcDA GMAT, GRE, TOEFL, IELTS & LSAT - https://drive.google.com/drive/folders/0B2jZERjUXCHhZnB5T0tpY2ZyRmc Html essential training - https://drive.google.com/drive/folders/0B3LfaGUUk6tiT18xZDRBY1FCVXc Lynda courses - https://drive.google.com/drive/folders/0B5eJ2fw2iba1UlZna0FUWXF4UFU Mathematics - https://drive.google.com/drive/folders/0BzeyVSBfx9yaWUMtUXZNLU9kM0k Php development course - https://drive.google.com/drive/folders/0ByWO0aO1eI_MV0lhX1dkUlQ3YUk Programming books - https://drive.google.com/drive/folders/0B2iEK7PB5AR-b01obXBHWHVHQzg     Thank me later ✌✌ 29/09/17, 9:00 pm - sachin: Hello 29/09/17, 9:03 pm - sachin: Aaiye kvi Asansol 29/09/17, 9:25 pm - sachin: Koi startup kholte haii 29/09/17, 9:50 pm - Bittu mama: 🙃🤓 29/09/17, 9:51 pm - Bittu mama: Koi idea hai 29/09/17, 9:57 pm - sachin: Fresh idea tho nii 29/09/17, 9:58 pm - sachin: <Media omitted>\\'],\\\\n\",\" [\\'23/12/17\\', \\'10:38 am\\', \\'sachin\\', \\'kB tk aa rahe\\'],\\\\n\",\" [\\'23/12/17\\', \\'11:01 am\\', \\'Bittu mama\\', \\'3 pm tak\\'],\\\\n\",\" [\\'23/12/17\\', \\'11:03 am\\', \\'sachin\\', \\'Fir movie kB jayege\\'],\\\\n\",\" [\\'23/12/17\\', \\'11:04 am\\', \\'Bittu mama\\', \\'Kaun sa movie\\'],\\\\n\",\" [\\'23/12/17\\', \\'11:04 am\\', \\'sachin\\', \\'Bhai ka movie\\'],\\\\n\",\" [\\'23/12/17\\', \\'11:04 am\\', \\'sachin\\', \\'😅\\'],\\\\n\",\" [\\'23/12/17\\',\\\\n\",\"  \\'11:05 am\\',\\\\n\",\"  \\'Bittu mama\\',\\\\n\",\"  \\'Tiger zinda hai.. ? Release ho gaya Kya?\\'],\\\\n\",\" [\\'23/12/17\\', \\'11:06 am\\', \\'sachin\\', \\'Ha\\'],\\\\n\",\" [\\'23/12/17\\', \\'11:06 am\\', \\'sachin\\', \\'Kl he hua hai\\'],\\\\n\",\" [\\'23/12/17\\',\\\\n\",\"  \\'11:07 am\\',\\\\n\",\"  \\'Bittu mama\\',\\\\n\",\"  \\'Kya movie dekhoge... Chhota Wala plastic Ball leke rakho .. cricket khelenge😁\\'],\\\\n\",\" [\\'23/12/17\\', \\'11:08 am\\', \\'sachin\\', \\'🤔😂\\'],\\\\n\",\" [\\'23/12/17\\',\\\\n\",\"  \\'11:14 am\\',\\\\n\",\"  \\'Bittu mama\\',\\\\n\",\"  \\'Aas pass printer ka dukan hai wahan pe\\'],\\\\n\",\" [\\'23/12/17\\', \\'11:14 am\\', \\'sachin\\', \\'Ha\\'],\\\\n\",\" [\\'23/12/17\\', \\'11:14 am\\', \\'Bittu mama\\', \\'Kitna dur pe\\'],\\\\n\",\" [\\'23/12/17\\', \\'11:15 am\\', \\'sachin\\', \\'Pass me he hai\\'],\\\\n\",\" [\\'23/12/17\\',\\\\n\",\"  \\'11:15 am\\',\\\\n\",\"  \\'Bittu mama\\',\\\\n\",\"  \\'Thik hai fir 26/05/18, 9:09 am - sachin: Apka office Exide me hai? 26/05/18, 9:17 am - Bittu mama: Nahi 26/05/18, 9:18 am - Bittu mama: Kyun 26/05/18, 9:30 am - sachin: Okay 05/06/18, 5:53 pm - Bittu mama: Call you in an hour 05/06/18, 5:53 pm - sachin: Okay 27/09/18, 1:50 pm - sachin: Prime account ka id 🆔password 27/09/18, 2:27 pm - Bittu mama: Upar hi to hai 27/09/18, 2:27 pm - Bittu mama: [7/17, 3:11 PM] .: praveeen36@gmail.com [7/17, 3:12 PM] .: amazpass 27/09/18, 2:32 pm - sachin: Two day delivery free 😃 27/09/18, 2:47 pm - Bittu mama: Han bas isilye liye the hum 27/09/18, 2:47 pm - Bittu mama: 👍👍 29/10/18, 7:08 am - Bittu mama: Wah... 29/10/18, 7:09 am - Bittu mama: Kahan ka photo hai ye 29/10/18, 7:09 am - Bittu mama: Tshango  lake? 29/10/18, 8:13 am - sachin: Gurudonmarg lake 29/10/18, 8:19 am - Bittu mama: 👍👍 13/01/19, 8:18 pm - sachin: sachink382@gmail.com 13/01/19, 8:19 pm - sachin: KtpZXh4JGtwutC 13/01/19, 8:30 pm - Bittu mama: Yes Kya pwd hai😳 13/01/19, 8:31 pm - sachin: Han 13/01/19, 8:31 pm - sachin: Suggest kiya google ne tho Maine le liya😬 13/01/19, 8:34 pm - Bittu mama: 😂😂 21/01/19, 7:33 am - Bittu mama: is email pe login kar sakte ho 21/01/19, 7:33 am - Bittu mama: givebk2society@gmail.com 21/01/19, 7:33 am - Bittu mama: crazycrazy1 21/01/19, 7:34 am - Bittu mama: onefourthlabs wala course 21/01/19, 7:36 am - Bittu mama: possible ? 21/01/19, 9:41 am - sachin: Krta hu\\'],\\\\n\",\" [\\'21/01/19\\',\\\\n\",\"  \\'10:25 am\\',\\\\n\",\"  \\'sachin\\',\\\\n\",\"  \\'Ispe new account bnana hai? Ya account bna hua hai?\\'],\\\\n\",\" [\\'21/01/19\\',\\\\n\",\"  \\'10:42 am\\',\\\\n\",\"  \\'Bittu mama\\',\\\\n\",\"  \\'Naya banana hai.. 21/01/19, 1:40 pm - sachin: Wo tho ap he bna paoyega na uspe email verification sab krna hoga.  Bnane ke baad ID password dijiye.  Usme student ID shyad course enrollment ke time manga hai. 21/01/19, 6:03 pm - sachin: Kr diya log in 05/05/19, 7:59 am - sachin: Party 05/05/19, 8:00 am - Bittu mama: ?? 05/05/19, 8:00 am - sachin: Sweden😬 05/05/19, 8:00 am - Bittu mama: Sayad nahi jaun.. still thinking 05/05/19, 8:01 am - sachin: Jana nii jana se kya 05/05/19, 8:01 am - sachin: Opportunity mila😛 05/05/19, 8:01 am - sachin: Party 05/05/19, 8:02 am - Bittu mama: 😅😅 05/05/19, 8:03 am - Bittu mama: 🌭🍔🍟🍕🥘🌯\\\\\\\\U0001f96d\\\\\\\\U0001f96d 05/05/19, 8:03 am - Bittu mama: 😄 05/05/19, 8:03 am - sachin: Zomato Swiggy se kr sakte order 05/05/19, 8:04 am - Bittu mama: Account nahi hai 05/05/19, 8:06 am - sachin: Get 50% OFF upto ₹200 on your first meal on Zomato. Apply promo code SACH0881U during checkout on a minimum order of ₹99. Get started: https://bnc.lt/WJml/CmahYuTSHT. 05/05/19, 8:07 am - sachin: Aj ka lunch apki taraf se😬 05/05/19, 8:08 am - Bittu mama: 🍚\\\\\\\\U0001f963🍳 05/05/19, 8:08 am - Bittu mama: 😬 05/05/19, 8:09 am - sachin: Kolkata me hai hum 05/05/19, 8:09 am - sachin: Ghr pe 05/05/19, 8:52 am - Bittu mama: Are AA jao fir 05/05/19, 8:52 am - Bittu mama: Iff possible 05/05/19, 8:54 am - sachin: Kl he malda ja rahe h 05/05/19, 8:55 am - sachin: But still ap treat de sakte h order krke idhar 05/05/19, 8:55 am - Bittu mama: Aise kaise 05/05/19, 8:56 am - sachin: Idhr ke address pe order 12/05/19, 7:28 pm - sachin: <Media omitted> 12/05/19, 7:29 pm - sachin: Loan Prediction Problem by Analytics Vidhya 20/05/19, 7:05 pm - sachin: You deleted this message 22/05/19, 9:57 pm - Bittu mama: Ye Kya hai.. loan prediction problem 23/05/19, 9:05 am - sachin: https://github.com/sachink382/Practice-Problem-Big-Mart-Sales-III 30/05/19, 2:13 pm - Bittu mama: Hello Good morning Sachin bhaiya 30/05/19, 2:16 pm - sachin: Good afternoon \\\\\\\\U0001f92a 30/05/19, 2:16 pm - Bittu mama: Sorry 30/05/19, 2:16 pm - Bittu mama: Dekha nahi tha 30/05/19, 2:16 pm - Bittu mama: Time 30/05/19, 2:16 pm - sachin: Okay 30/05/19, 2:17 pm - Bittu mama: Ek Question hai 30/05/19, 2:17 pm - sachin: Pucho 30/05/19, 2:19 pm - Bittu mama: Aap fljo html Wala homework diie hai woh ban tho  gaya lekin bheju kaese 30/05/19, 2:20 pm - sachin: Laptop pe bnaya hai? 30/05/19, 2:20 pm - Bittu mama: Hain 30/05/19, 2:20 pm - sachin: Ek software ata hai 30/05/19, 2:20 pm - Bittu mama: Han 30/05/19, 2:20 pm - sachin: Screen recording wala 30/05/19, 2:20 pm - Bittu mama: Kahan 30/05/19, 2:21 pm - Bittu mama: Pe 30/05/19, 2:21 pm - sachin: Usse screen record krke aur wo sab link ek baar khol khol ke dikha ke ek video bhej do 30/05/19, 2:22 pm - sachin: https://youtu.be/7QQOGLYhRdo 30/05/19, 2:23 pm - Bittu mama: Mera Windows 7 hai 30/05/19, 2:25 pm - Bittu mama: Hello 30/05/19, 2:25 pm - Bittu mama: !! 30/05/19, 2:26 pm - sachin: https://obsproject.com/download 30/05/19, 2:26 pm - sachin: Ye software install kro 30/05/19, 2:26 pm - sachin: Isse ho jayega recording 30/05/19, 2:27 pm - Bittu mama: Laptop me na 30/05/19, 2:27 pm - sachin: Ha 30/05/19, 2:31 pm - Bittu mama: How to install step-by-step 30/05/19, 2:32 pm - sachin: Dekh lo khud se 30/05/19, 2:32 pm - sachin: Usme diya hoga 30/05/19, 2:32 pm - sachin: Ya google pe dekh lo 30/05/19, 2:32 pm - sachin: Easy hota install krna 30/05/19, 2:33 pm - Bittu mama: Thank you 30/05/19, 3:26 pm - Bittu mama: Homework validation 30/05/19, 3:42 pm - sachin: Video? 30/05/19, 3:58 pm - Bittu mama: Download toh ham kar lie lekin chale kease woh papa samajh nahi pae 30/05/19, 3:59 pm - sachin: Install kro 30/05/19, 3:59 pm - Bittu mama: Kie to 30/05/19, 4:00 pm - sachin: Open kro 30/05/19, 4:01 pm - sachin: Fir record kro screen 30/05/19, 4:02 pm - Bittu mama: Obs studio se papa nahi kar rahe hai camera studio se kar rahe hai 30/05/19, 4:07 pm - Bittu mama: Aapka email Id Kya hai recording ho gaya email karenge 30/05/19, 4:09 pm - sachin: sachink382@gmail.com 30/05/19, 4:18 pm - Bittu mama: Aapna recording bhej diie hai sound nahi aya hai 30/05/19, 4:18 pm - Bittu mama: Gmain me 30/05/19, 4:19 pm - Bittu mama: Gmail me 30/05/19, 4:24 pm - sachin: Dekh liya 30/05/19, 4:24 pm - sachin: Aacha hai kafi 30/05/19, 4:24 pm - sachin: Nice work 30/05/19, 4:24 pm - Bittu mama: Thank you 30/05/19, 4:25 pm - sachin: Isme aur bahut kuch add kr sakte 30/05/19, 4:25 pm - sachin: Kafi khali khali hai 30/05/19, 4:26 pm - Bittu mama: Badme swimming se aake css aur bootstrap se edit kar lenge 30/05/19, 4:27 pm - sachin: https://dabhtml.blogspot.com/2015/02/how-to-create-simple-biodata-form-in.html 30/05/19, 4:27 pm - sachin: Ye dekho 30/05/19, 4:27 pm - sachin: Aur design aur aacha kr sakte 30/05/19, 4:27 pm - sachin: Colors 30/05/19, 4:27 pm - sachin: Heading 30/05/19, 4:27 pm - sachin: Etc 30/05/19, 4:27 pm - sachin: Overall aacha hai first website tmhara 30/05/19, 4:27 pm - sachin: Good 30/05/19, 4:29 pm - sachin: https://austinkleon.com/ 30/05/19, 4:29 pm - sachin: Ye v acha bnaya hai kafi 30/05/19, 4:29 pm - Bittu mama: Aur bhi ham banae hai sirf ek nahi 30/05/19, 4:29 pm - sachin: Sabko link v krna Ek page se dusre page me 30/05/19, 4:30 pm - Bittu mama: Use se banae hai page linking wala 30/05/19, 4:32 pm - Bittu mama: Page link bhi bahut sara banae hai 30/05/19, 4:42 pm - sachin: Ok\\'],\\\\n\",\" [\\'28/07/19\\',\\\\n\",\"  \\'10:36 am\\',\\\\n\",\"  \\'sachin\\',\\\\n\",\"  \\'Amazon prime khatam ho gya hai kya apka? 28/07/19, 2:25 pm - Bittu mama: Han 28/07/19, 3:22 pm - Bittu mama: Hotstar chahiye 28/07/19, 3:22 pm - Bittu mama: ? 28/07/19, 3:23 pm - sachin: Ni 28/07/19, 3:23 pm - sachin: Order krna tha 28/07/19, 3:23 pm - sachin: Kr liya 27/02/20, 9:56 am - Bittu mama: Hello 27/02/20, 9:56 am - Bittu mama: <Media omitted> 27/02/20, 9:56 am - Bittu mama: Ye satyam ne bana liya hai 27/02/20, 9:57 am - Bittu mama: Usne solution bheja 27/02/20, 9:58 am - Bittu mama: Humse nahi bana tha.. solution dekha to sahi laga\\'],\\\\n\",\" [\\'27/02/20\\', \\'10:14 am\\', \\'sachin\\', \\'Acha\\']]\"]},\"metadata\":{\"tags\":[]},\"execution_count\":83}]},{\"cell_type\":\"code\",\"metadata\":{\"id\":\"v1FmuSMIXfig\",\"colab_type\":\"code\",\"colab\":{\"base_uri\":\"https://localhost:8080/\",\"height\":196},\"executionInfo\":{\"status\":\"ok\",\"timestamp\":1597167233851,\"user_tz\":-330,\"elapsed\":2627,\"user\":{\"displayName\":\"Sachin Kumar\",\"photoUrl\":\"\",\"userId\":\"02730222251215094617\"}},\"outputId\":\"953b0063-edd3-4aa6-882c-ddaa0766affb\"},\"source\":[\"df = pd.DataFrame(parsedData, columns=[\\'Date\\', \\'Time\\', \\'Author\\', \\'Message\\'])\\\\n\",\"df.head()\"],\"execution_count\":null,\"outputs\":[{\"output_type\":\"execute_result\",\"data\":{\"text/html\":[\"<div>\\\\n\",\"<style scoped>\\\\n\",\"    .dataframe tbody tr th:only-of-type {\\\\n\",\"        vertical-align: middle;\\\\n\",\"    }\\\\n\",\"\\\\n\",\"    .dataframe tbody tr th {\\\\n\",\"        vertical-align: top;\\\\n\",\"    }\\\\n\",\"\\\\n\",\"    .dataframe thead th {\\\\n\",\"        text-align: right;\\\\n\",\"    }\\\\n\",\"</style>\\\\n\",\"<table border=\\\\\"1\\\\\" class=\\\\\"dataframe\\\\\">\\\\n\",\"  <thead>\\\\n\",\"    <tr style=\\\\\"text-align: right;\\\\\">\\\\n\",\"      <th></th>\\\\n\",\"      <th>Date</th>\\\\n\",\"      <th>Time</th>\\\\n\",\"      <th>Author</th>\\\\n\",\"      <th>Message</th>\\\\n\",\"    </tr>\\\\n\",\"  </thead>\\\\n\",\"  <tbody>\\\\n\",\"    <tr>\\\\n\",\"      <th>0</th>\\\\n\",\"      <td>07/10/16</td>\\\\n\",\"      <td>10:29 pm</td>\\\\n\",\"      <td>Bittu mama</td>\\\\n\",\"      <td>Kahan bhai abhi...</td>\\\\n\",\"    </tr>\\\\n\",\"    <tr>\\\\n\",\"      <th>1</th>\\\\n\",\"      <td>07/10/16</td>\\\\n\",\"      <td>10:30 pm</td>\\\\n\",\"      <td>Bittu mama</td>\\\\n\",\"      <td>Ghar pahunch ke ek message kar diyo..</td>\\\\n\",\"    </tr>\\\\n\",\"    <tr>\\\\n\",\"      <th>2</th>\\\\n\",\"      <td>26/10/16</td>\\\\n\",\"      <td>12:04 pm</td>\\\\n\",\"      <td>Bittu mama</td>\\\\n\",\"      <td>Hello</td>\\\\n\",\"    </tr>\\\\n\",\"    <tr>\\\\n\",\"      <th>3</th>\\\\n\",\"      <td>26/10/16</td>\\\\n\",\"      <td>12:04 pm</td>\\\\n\",\"      <td>Bittu mama</td>\\\\n\",\"      <td>Kya haal</td>\\\\n\",\"    </tr>\\\\n\",\"    <tr>\\\\n\",\"      <th>4</th>\\\\n\",\"      <td>26/10/16</td>\\\\n\",\"      <td>12:12 pm</td>\\\\n\",\"      <td>sachin</td>\\\\n\",\"      <td>Badhiya</td>\\\\n\",\"    </tr>\\\\n\",\"  </tbody>\\\\n\",\"</table>\\\\n\",\"</div>\"],\"text/plain\":[\"       Date      Time      Author                                Message\\\\n\",\"0  07/10/16  10:29 pm  Bittu mama                     Kahan bhai abhi...\\\\n\",\"1  07/10/16  10:30 pm  Bittu mama  Ghar pahunch ke ek message kar diyo..\\\\n\",\"2  26/10/16  12:04 pm  Bittu mama                                  Hello\\\\n\",\"3  26/10/16  12:04 pm  Bittu mama                               Kya haal\\\\n\",\"4  26/10/16  12:12 pm      sachin                                Badhiya\"]},\"metadata\":{\"tags\":[]},\"execution_count\":84}]},{\"cell_type\":\"code\",\"metadata\":{\"id\":\"zXMtCbiIkIHQ\",\"colab_type\":\"code\",\"colab\":{}},\"source\":[\"\"],\"execution_count\":null,\"outputs\":[]}]}'],\n",
              "      dtype=object)"
            ]
          },
          "metadata": {
            "tags": []
          },
          "execution_count": 65
        }
      ]
    },
    {
      "cell_type": "code",
      "metadata": {
        "id": "RIsvJz028mM7",
        "colab_type": "code",
        "colab": {
          "base_uri": "https://localhost:8080/",
          "height": 251
        },
        "outputId": "5cc397cc-017f-4350-bb00-99855cb18175"
      },
      "source": [
        "msg_sachin['day'] = msg_sachin['date'].dt.day_name()\n",
        "msg_sachin['day'].value_counts()"
      ],
      "execution_count": 27,
      "outputs": [
        {
          "output_type": "stream",
          "text": [
            "/usr/local/lib/python3.6/dist-packages/ipykernel_launcher.py:1: SettingWithCopyWarning: \n",
            "A value is trying to be set on a copy of a slice from a DataFrame.\n",
            "Try using .loc[row_indexer,col_indexer] = value instead\n",
            "\n",
            "See the caveats in the documentation: https://pandas.pydata.org/pandas-docs/stable/user_guide/indexing.html#returning-a-view-versus-a-copy\n",
            "  \"\"\"Entry point for launching an IPython kernel.\n"
          ],
          "name": "stderr"
        },
        {
          "output_type": "execute_result",
          "data": {
            "text/plain": [
              "Friday       8965\n",
              "Sunday       8918\n",
              "Monday       8634\n",
              "Wednesday    8156\n",
              "Thursday     8082\n",
              "Saturday     7684\n",
              "Tuesday      7567\n",
              "Name: day, dtype: int64"
            ]
          },
          "metadata": {
            "tags": []
          },
          "execution_count": 27
        }
      ]
    },
    {
      "cell_type": "code",
      "metadata": {
        "id": "u7_LfP9KAOXi",
        "colab_type": "code",
        "colab": {
          "base_uri": "https://localhost:8080/",
          "height": 535
        },
        "outputId": "7934a9be-2adb-4893-d444-6287f6dcc48f"
      },
      "source": [
        "msg_sachin['datehour'] = msg_sachin['date'].dt.hour\n",
        "msg_sachin['datehour'].value_counts()"
      ],
      "execution_count": 28,
      "outputs": [
        {
          "output_type": "stream",
          "text": [
            "/usr/local/lib/python3.6/dist-packages/ipykernel_launcher.py:1: SettingWithCopyWarning: \n",
            "A value is trying to be set on a copy of a slice from a DataFrame.\n",
            "Try using .loc[row_indexer,col_indexer] = value instead\n",
            "\n",
            "See the caveats in the documentation: https://pandas.pydata.org/pandas-docs/stable/user_guide/indexing.html#returning-a-view-versus-a-copy\n",
            "  \"\"\"Entry point for launching an IPython kernel.\n"
          ],
          "name": "stderr"
        },
        {
          "output_type": "execute_result",
          "data": {
            "text/plain": [
              "21    4624\n",
              "22    4463\n",
              "19    4197\n",
              "12    4140\n",
              "18    3922\n",
              "17    3864\n",
              "11    3724\n",
              "14    3465\n",
              "20    3457\n",
              "16    3289\n",
              "13    3194\n",
              "10    2930\n",
              "15    2695\n",
              "23    2511\n",
              "9     2439\n",
              "8     1495\n",
              "0     1386\n",
              "7      922\n",
              "6      392\n",
              "1      363\n",
              "2      214\n",
              "5      169\n",
              "3      101\n",
              "4       50\n",
              "Name: datehour, dtype: int64"
            ]
          },
          "metadata": {
            "tags": []
          },
          "execution_count": 28
        }
      ]
    },
    {
      "cell_type": "code",
      "metadata": {
        "id": "gp7Cxg_GDX2A",
        "colab_type": "code",
        "colab": {
          "base_uri": "https://localhost:8080/",
          "height": 334
        },
        "outputId": "55835a73-9e9e-402b-cd9c-3a0eef9238e6"
      },
      "source": [
        "msg_sachin['month'] = msg_sachin['date'].dt.month\n",
        "msg_sachin['month'].value_counts()"
      ],
      "execution_count": 34,
      "outputs": [
        {
          "output_type": "stream",
          "text": [
            "/usr/local/lib/python3.6/dist-packages/ipykernel_launcher.py:1: SettingWithCopyWarning: \n",
            "A value is trying to be set on a copy of a slice from a DataFrame.\n",
            "Try using .loc[row_indexer,col_indexer] = value instead\n",
            "\n",
            "See the caveats in the documentation: https://pandas.pydata.org/pandas-docs/stable/user_guide/indexing.html#returning-a-view-versus-a-copy\n",
            "  \"\"\"Entry point for launching an IPython kernel.\n"
          ],
          "name": "stderr"
        },
        {
          "output_type": "execute_result",
          "data": {
            "text/plain": [
              "5     9953\n",
              "7     9122\n",
              "4     8874\n",
              "6     8269\n",
              "8     3958\n",
              "10    3420\n",
              "3     2980\n",
              "11    2831\n",
              "12    2665\n",
              "2     2273\n",
              "1     2007\n",
              "9     1654\n",
              "Name: month, dtype: int64"
            ]
          },
          "metadata": {
            "tags": []
          },
          "execution_count": 34
        }
      ]
    },
    {
      "cell_type": "code",
      "metadata": {
        "id": "v1FmuSMIXfig",
        "colab_type": "code",
        "colab": {}
      },
      "source": [
        "# Counting number of emojis\n",
        "def extract_emojis(str):\n",
        "    return ''.join(c for c in str if c in emoji.UNICODE_EMOJI)\n",
        "\n",
        "def Count_Emojis(df):\n",
        "    series = df['msg']\n",
        "    all_words = \"\"\n",
        "    for sentence in series:\n",
        "        all_words += extract_emojis(sentence)\n",
        "    word_count = Counter(all_words)\n",
        "    \n",
        "    \n",
        "    ordered = {}\n",
        "    ordered['msg'] = []\n",
        "    for key, number in word_count.most_common()[:50]:\n",
        "        ordered[key] = []\n",
        "    \n",
        "    for sentence in series:\n",
        "        sentence_count = Counter(extract_emojis(sentence))\n",
        "        \n",
        "        for word in ordered:\n",
        "            count = sentence_count[word] if sentence_count[word] else 0\n",
        "            ordered[word] += [count]\n",
        "    ordered['msg'] = list(series)\n",
        "    ordered['date'] = list(df['date'])\n",
        "    ordered['date1'] = list(df['date1'])\n",
        "    ordered['name'] = list(df['name'])\n",
        "    return pd.DataFrame(ordered)"
      ],
      "execution_count": 35,
      "outputs": []
    },
    {
      "cell_type": "code",
      "metadata": {
        "id": "zXMtCbiIkIHQ",
        "colab_type": "code",
        "colab": {}
      },
      "source": [
        "emojis_counts = Count_Emojis(history_clean)"
      ],
      "execution_count": 37,
      "outputs": []
    },
    {
      "cell_type": "code",
      "metadata": {
        "id": "bkjGPu3urDI6",
        "colab_type": "code",
        "colab": {
          "base_uri": "https://localhost:8080/",
          "height": 130
        },
        "outputId": "acdf9bea-2ee6-4848-cb59-fbc28140ad5b"
      },
      "source": [
        "emojis_counts.head(1)"
      ],
      "execution_count": 43,
      "outputs": [
        {
          "output_type": "execute_result",
          "data": {
            "text/html": [
              "<div>\n",
              "<style scoped>\n",
              "    .dataframe tbody tr th:only-of-type {\n",
              "        vertical-align: middle;\n",
              "    }\n",
              "\n",
              "    .dataframe tbody tr th {\n",
              "        vertical-align: top;\n",
              "    }\n",
              "\n",
              "    .dataframe thead th {\n",
              "        text-align: right;\n",
              "    }\n",
              "</style>\n",
              "<table border=\"1\" class=\"dataframe\">\n",
              "  <thead>\n",
              "    <tr style=\"text-align: right;\">\n",
              "      <th></th>\n",
              "      <th>msg</th>\n",
              "      <th>😂</th>\n",
              "      <th>💣</th>\n",
              "      <th>🤣</th>\n",
              "      <th>🏻</th>\n",
              "      <th>🙉</th>\n",
              "      <th>😅</th>\n",
              "      <th>👍</th>\n",
              "      <th>♀</th>\n",
              "      <th>🙄</th>\n",
              "      <th>👌</th>\n",
              "      <th>♂</th>\n",
              "      <th>😆</th>\n",
              "      <th>❤</th>\n",
              "      <th>🐒</th>\n",
              "      <th>🤷</th>\n",
              "      <th>😬</th>\n",
              "      <th>🙏</th>\n",
              "      <th>😍</th>\n",
              "      <th>😛</th>\n",
              "      <th>🤦</th>\n",
              "      <th>👏</th>\n",
              "      <th>😯</th>\n",
              "      <th>😘</th>\n",
              "      <th>🤔</th>\n",
              "      <th>😊</th>\n",
              "      <th>😭</th>\n",
              "      <th>💆</th>\n",
              "      <th>😒</th>\n",
              "      <th>🙊</th>\n",
              "      <th>🐠</th>\n",
              "      <th>🐋</th>\n",
              "      <th>🐟</th>\n",
              "      <th>😁</th>\n",
              "      <th>🤭</th>\n",
              "      <th>😢</th>\n",
              "      <th>🙋</th>\n",
              "      <th>😝</th>\n",
              "      <th>🔥</th>\n",
              "      <th>😜</th>\n",
              "      <th>🤤</th>\n",
              "      <th>🌝</th>\n",
              "      <th>🎂</th>\n",
              "      <th>😑</th>\n",
              "      <th>🥵</th>\n",
              "      <th>👋</th>\n",
              "      <th>🤢</th>\n",
              "      <th>🤨</th>\n",
              "      <th>😏</th>\n",
              "      <th>🧟</th>\n",
              "      <th>🌚</th>\n",
              "      <th>date</th>\n",
              "      <th>date1</th>\n",
              "      <th>name</th>\n",
              "    </tr>\n",
              "  </thead>\n",
              "  <tbody>\n",
              "    <tr>\n",
              "      <th>0</th>\n",
              "      <td>Helo</td>\n",
              "      <td>0</td>\n",
              "      <td>0</td>\n",
              "      <td>0</td>\n",
              "      <td>0</td>\n",
              "      <td>0</td>\n",
              "      <td>0</td>\n",
              "      <td>0</td>\n",
              "      <td>0</td>\n",
              "      <td>0</td>\n",
              "      <td>0</td>\n",
              "      <td>0</td>\n",
              "      <td>0</td>\n",
              "      <td>0</td>\n",
              "      <td>0</td>\n",
              "      <td>0</td>\n",
              "      <td>0</td>\n",
              "      <td>0</td>\n",
              "      <td>0</td>\n",
              "      <td>0</td>\n",
              "      <td>0</td>\n",
              "      <td>0</td>\n",
              "      <td>0</td>\n",
              "      <td>0</td>\n",
              "      <td>0</td>\n",
              "      <td>0</td>\n",
              "      <td>0</td>\n",
              "      <td>0</td>\n",
              "      <td>0</td>\n",
              "      <td>0</td>\n",
              "      <td>0</td>\n",
              "      <td>0</td>\n",
              "      <td>0</td>\n",
              "      <td>0</td>\n",
              "      <td>0</td>\n",
              "      <td>0</td>\n",
              "      <td>0</td>\n",
              "      <td>0</td>\n",
              "      <td>0</td>\n",
              "      <td>0</td>\n",
              "      <td>0</td>\n",
              "      <td>0</td>\n",
              "      <td>0</td>\n",
              "      <td>0</td>\n",
              "      <td>0</td>\n",
              "      <td>0</td>\n",
              "      <td>0</td>\n",
              "      <td>0</td>\n",
              "      <td>0</td>\n",
              "      <td>0</td>\n",
              "      <td>0</td>\n",
              "      <td>2019-09-26 21:20:00</td>\n",
              "      <td>2019-09-26</td>\n",
              "      <td>sachin</td>\n",
              "    </tr>\n",
              "  </tbody>\n",
              "</table>\n",
              "</div>"
            ],
            "text/plain": [
              "    msg  😂  💣  🤣  🏻  🙉  😅  ...  🤨  😏  🧟  🌚                date       date1    name\n",
              "0  Helo  0  0  0  0  0  0  ...  0  0  0  0 2019-09-26 21:20:00  2019-09-26  sachin\n",
              "\n",
              "[1 rows x 54 columns]"
            ]
          },
          "metadata": {
            "tags": []
          },
          "execution_count": 43
        }
      ]
    },
    {
      "cell_type": "code",
      "metadata": {
        "id": "Diy65kuqq5vb",
        "colab_type": "code",
        "colab": {
          "base_uri": "https://localhost:8080/",
          "height": 903
        },
        "outputId": "b9d91c15-19b2-49a8-daa7-a3c9faa4842d"
      },
      "source": [
        "emojis_counts.sum()"
      ],
      "execution_count": 78,
      "outputs": [
        {
          "output_type": "execute_result",
          "data": {
            "text/plain": [
              "msg     *Special Offer for all Jio Customers*  *Activa...\n",
              "😂                                                   10809\n",
              "💣                                                    5943\n",
              "🤣                                                    5608\n",
              "🏻                                                    5482\n",
              "🙉                                                    4717\n",
              "😅                                                    3714\n",
              "👍                                                    2588\n",
              "♀                                                    2439\n",
              "🙄                                                    1600\n",
              "👌                                                    1477\n",
              "♂                                                    1379\n",
              "😆                                                    1352\n",
              "❤                                                    1185\n",
              "🐒                                                    1147\n",
              "🤷                                                    1120\n",
              "😬                                                    1090\n",
              "🙏                                                     941\n",
              "😍                                                     921\n",
              "😛                                                     889\n",
              "🤦                                                     881\n",
              "👏                                                     880\n",
              "😯                                                     877\n",
              "😘                                                     800\n",
              "🤔                                                     771\n",
              "😊                                                     689\n",
              "😭                                                     621\n",
              "💆                                                     598\n",
              "😒                                                     596\n",
              "🙊                                                     583\n",
              "🐠                                                     573\n",
              "🐋                                                     572\n",
              "🐟                                                     570\n",
              "😁                                                     501\n",
              "🤭                                                     500\n",
              "😢                                                     491\n",
              "🙋                                                     478\n",
              "😝                                                     460\n",
              "🔥                                                     451\n",
              "😜                                                     449\n",
              "🤤                                                     443\n",
              "🌝                                                     397\n",
              "🎂                                                     392\n",
              "😑                                                     391\n",
              "🥵                                                     390\n",
              "👋                                                     350\n",
              "🤢                                                     344\n",
              "🤨                                                     339\n",
              "😏                                                     338\n",
              "🧟                                                     338\n",
              "🌚                                                     336\n",
              "name    Bittu mamasachinDiwakar Awaaz 1Diwakar Awaaz 1...\n",
              "dtype: object"
            ]
          },
          "metadata": {
            "tags": []
          },
          "execution_count": 78
        }
      ]
    },
    {
      "cell_type": "code",
      "metadata": {
        "id": "y2Ga6erOWv8z",
        "colab_type": "code",
        "colab": {}
      },
      "source": [
        ""
      ],
      "execution_count": null,
      "outputs": []
    }
  ]
}